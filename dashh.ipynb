{
 "cells": [
  {
   "cell_type": "code",
   "execution_count": 2,
   "id": "cc33ad50-c4ab-42d1-a83a-9886f8c2c168",
   "metadata": {},
   "outputs": [
    {
     "name": "stdout",
     "output_type": "stream",
     "text": [
      "Requirement already satisfied: dash in /home/npatt8910/venv/lib/python3.11/site-packages (2.17.1)\n",
      "Collecting jupyter-dash\n",
      "  Downloading jupyter_dash-0.4.2-py3-none-any.whl (23 kB)\n",
      "Requirement already satisfied: Flask<3.1,>=1.0.4 in /home/npatt8910/venv/lib/python3.11/site-packages (from dash) (3.0.3)\n",
      "Requirement already satisfied: Werkzeug<3.1 in /home/npatt8910/venv/lib/python3.11/site-packages (from dash) (3.0.2)\n",
      "Requirement already satisfied: plotly>=5.0.0 in /home/npatt8910/venv/lib/python3.11/site-packages (from dash) (5.22.0)\n",
      "Requirement already satisfied: dash-html-components==2.0.0 in /home/npatt8910/venv/lib/python3.11/site-packages (from dash) (2.0.0)\n",
      "Requirement already satisfied: dash-core-components==2.0.0 in /home/npatt8910/venv/lib/python3.11/site-packages (from dash) (2.0.0)\n",
      "Requirement already satisfied: dash-table==5.0.0 in /home/npatt8910/venv/lib/python3.11/site-packages (from dash) (5.0.0)\n",
      "Requirement already satisfied: importlib-metadata in /home/npatt8910/venv/lib/python3.11/site-packages (from dash) (6.11.0)\n",
      "Requirement already satisfied: typing-extensions>=4.1.1 in /home/npatt8910/venv/lib/python3.11/site-packages (from dash) (4.11.0)\n",
      "Requirement already satisfied: requests in /home/npatt8910/venv/lib/python3.11/site-packages (from dash) (2.32.2)\n",
      "Requirement already satisfied: retrying in /home/npatt8910/venv/lib/python3.11/site-packages (from dash) (1.3.4)\n",
      "Requirement already satisfied: nest-asyncio in /home/npatt8910/venv/lib/python3.11/site-packages (from dash) (1.6.0)\n",
      "Requirement already satisfied: setuptools in /home/npatt8910/venv/lib/python3.11/site-packages (from dash) (66.1.1)\n",
      "Requirement already satisfied: ipython in /home/npatt8910/venv/lib/python3.11/site-packages (from jupyter-dash) (8.24.0)\n",
      "Requirement already satisfied: ipykernel in /home/npatt8910/venv/lib/python3.11/site-packages (from jupyter-dash) (6.29.4)\n",
      "Collecting ansi2html\n",
      "  Downloading ansi2html-1.9.1-py3-none-any.whl (17 kB)\n",
      "Requirement already satisfied: Jinja2>=3.1.2 in /home/npatt8910/venv/lib/python3.11/site-packages (from Flask<3.1,>=1.0.4->dash) (3.1.3)\n",
      "Requirement already satisfied: itsdangerous>=2.1.2 in /home/npatt8910/venv/lib/python3.11/site-packages (from Flask<3.1,>=1.0.4->dash) (2.2.0)\n",
      "Requirement already satisfied: click>=8.1.3 in /home/npatt8910/venv/lib/python3.11/site-packages (from Flask<3.1,>=1.0.4->dash) (8.1.7)\n",
      "Requirement already satisfied: blinker>=1.6.2 in /home/npatt8910/venv/lib/python3.11/site-packages (from Flask<3.1,>=1.0.4->dash) (1.8.1)\n",
      "Requirement already satisfied: tenacity>=6.2.0 in /home/npatt8910/venv/lib/python3.11/site-packages (from plotly>=5.0.0->dash) (8.2.3)\n",
      "Requirement already satisfied: packaging in /home/npatt8910/venv/lib/python3.11/site-packages (from plotly>=5.0.0->dash) (23.2)\n",
      "Requirement already satisfied: MarkupSafe>=2.1.1 in /home/npatt8910/venv/lib/python3.11/site-packages (from Werkzeug<3.1->dash) (2.1.5)\n",
      "Requirement already satisfied: zipp>=0.5 in /home/npatt8910/venv/lib/python3.11/site-packages (from importlib-metadata->dash) (3.18.1)\n",
      "Requirement already satisfied: comm>=0.1.1 in /home/npatt8910/venv/lib/python3.11/site-packages (from ipykernel->jupyter-dash) (0.2.2)\n",
      "Requirement already satisfied: debugpy>=1.6.5 in /home/npatt8910/venv/lib/python3.11/site-packages (from ipykernel->jupyter-dash) (1.8.1)\n",
      "Requirement already satisfied: jupyter-client>=6.1.12 in /home/npatt8910/venv/lib/python3.11/site-packages (from ipykernel->jupyter-dash) (8.6.1)\n",
      "Requirement already satisfied: jupyter-core!=5.0.*,>=4.12 in /home/npatt8910/venv/lib/python3.11/site-packages (from ipykernel->jupyter-dash) (5.7.2)\n",
      "Requirement already satisfied: matplotlib-inline>=0.1 in /home/npatt8910/venv/lib/python3.11/site-packages (from ipykernel->jupyter-dash) (0.1.7)\n",
      "Requirement already satisfied: psutil in /home/npatt8910/venv/lib/python3.11/site-packages (from ipykernel->jupyter-dash) (5.9.8)\n",
      "Requirement already satisfied: pyzmq>=24 in /home/npatt8910/venv/lib/python3.11/site-packages (from ipykernel->jupyter-dash) (26.0.2)\n",
      "Requirement already satisfied: tornado>=6.1 in /home/npatt8910/venv/lib/python3.11/site-packages (from ipykernel->jupyter-dash) (6.4)\n",
      "Requirement already satisfied: traitlets>=5.4.0 in /home/npatt8910/venv/lib/python3.11/site-packages (from ipykernel->jupyter-dash) (5.14.3)\n",
      "Requirement already satisfied: decorator in /home/npatt8910/venv/lib/python3.11/site-packages (from ipython->jupyter-dash) (5.1.1)\n",
      "Requirement already satisfied: jedi>=0.16 in /home/npatt8910/venv/lib/python3.11/site-packages (from ipython->jupyter-dash) (0.19.1)\n",
      "Requirement already satisfied: prompt-toolkit<3.1.0,>=3.0.41 in /home/npatt8910/venv/lib/python3.11/site-packages (from ipython->jupyter-dash) (3.0.43)\n",
      "Requirement already satisfied: pygments>=2.4.0 in /home/npatt8910/venv/lib/python3.11/site-packages (from ipython->jupyter-dash) (2.17.2)\n",
      "Requirement already satisfied: stack-data in /home/npatt8910/venv/lib/python3.11/site-packages (from ipython->jupyter-dash) (0.6.3)\n",
      "Requirement already satisfied: pexpect>4.3 in /home/npatt8910/venv/lib/python3.11/site-packages (from ipython->jupyter-dash) (4.9.0)\n",
      "Requirement already satisfied: charset-normalizer<4,>=2 in /home/npatt8910/venv/lib/python3.11/site-packages (from requests->dash) (3.3.2)\n",
      "Requirement already satisfied: idna<4,>=2.5 in /home/npatt8910/venv/lib/python3.11/site-packages (from requests->dash) (3.7)\n",
      "Requirement already satisfied: urllib3<3,>=1.21.1 in /home/npatt8910/venv/lib/python3.11/site-packages (from requests->dash) (1.26.19)\n",
      "Requirement already satisfied: certifi>=2017.4.17 in /home/npatt8910/venv/lib/python3.11/site-packages (from requests->dash) (2024.2.2)\n",
      "Requirement already satisfied: six>=1.7.0 in /home/npatt8910/venv/lib/python3.11/site-packages (from retrying->dash) (1.16.0)\n",
      "Requirement already satisfied: parso<0.9.0,>=0.8.3 in /home/npatt8910/venv/lib/python3.11/site-packages (from jedi>=0.16->ipython->jupyter-dash) (0.8.4)\n",
      "Requirement already satisfied: python-dateutil>=2.8.2 in /home/npatt8910/venv/lib/python3.11/site-packages (from jupyter-client>=6.1.12->ipykernel->jupyter-dash) (2.9.0.post0)\n",
      "Requirement already satisfied: platformdirs>=2.5 in /home/npatt8910/venv/lib/python3.11/site-packages (from jupyter-core!=5.0.*,>=4.12->ipykernel->jupyter-dash) (4.2.1)\n",
      "Requirement already satisfied: ptyprocess>=0.5 in /home/npatt8910/venv/lib/python3.11/site-packages (from pexpect>4.3->ipython->jupyter-dash) (0.7.0)\n",
      "Requirement already satisfied: wcwidth in /home/npatt8910/venv/lib/python3.11/site-packages (from prompt-toolkit<3.1.0,>=3.0.41->ipython->jupyter-dash) (0.2.13)\n",
      "Requirement already satisfied: executing>=1.2.0 in /home/npatt8910/venv/lib/python3.11/site-packages (from stack-data->ipython->jupyter-dash) (2.0.1)\n",
      "Requirement already satisfied: asttokens>=2.1.0 in /home/npatt8910/venv/lib/python3.11/site-packages (from stack-data->ipython->jupyter-dash) (2.4.1)\n",
      "Requirement already satisfied: pure-eval in /home/npatt8910/venv/lib/python3.11/site-packages (from stack-data->ipython->jupyter-dash) (0.2.2)\n",
      "Installing collected packages: ansi2html, jupyter-dash\n",
      "Successfully installed ansi2html-1.9.1 jupyter-dash-0.4.2\n"
     ]
    }
   ],
   "source": [
    "!pip install dash jupyter-dash"
   ]
  },
  {
   "cell_type": "code",
   "execution_count": 3,
   "id": "d82b9f99-f592-4ce4-9019-72e935fcd19b",
   "metadata": {},
   "outputs": [],
   "source": [
    "from jupyter_dash import JupyterDash\n",
    "from dash import dcc, html, Input, Output\n",
    "import yfinance as yf\n",
    "import plotly.express as px"
   ]
  },
  {
   "cell_type": "code",
   "execution_count": 7,
   "id": "d6e34c34-19d5-4318-8b9a-9639b1b3427d",
   "metadata": {},
   "outputs": [],
   "source": [
    "from dash import jupyter_dash\n",
    "\n",
    "jupyter_dash.default_mode=\"external\""
   ]
  },
  {
   "cell_type": "code",
   "execution_count": 8,
   "id": "1c090d46-ce72-4d85-bac6-6b3eaa84e287",
   "metadata": {},
   "outputs": [
    {
     "name": "stdout",
     "output_type": "stream",
     "text": [
      "Dash app running on http://127.0.0.1:8050/\n"
     ]
    }
   ],
   "source": [
    "app.run(jupyter_mode=\"external\")"
   ]
  },
  {
   "cell_type": "code",
   "execution_count": 9,
   "id": "a34f38fb-8728-4c12-9606-278078635fc5",
   "metadata": {},
   "outputs": [],
   "source": [
    "app.layout = html.Div([\n",
    "    html.H1(\"Stock Price Analysis Dashboard\"),\n",
    "     \n",
    "    html.Label(\"Select Stock Symbol:\"),\n",
    "    dcc.Dropdown(\n",
    "        id='stock-selector',\n",
    "        options=[\n",
    "            {'label': 'AAPL', 'value': 'AAPL'},\n",
    "            {'label': 'GOOGL', 'value': 'GOOGL'},\n",
    "            {'label': 'MSFT', 'value': 'MSFT'},\n",
    "        ],\n",
    "        value='AAPL'\n",
    "    ),\n",
    "     \n",
    "    dcc.Graph(id='stock-price-chart'),\n",
    "])"
   ]
  },
  {
   "cell_type": "code",
   "execution_count": 10,
   "id": "caff3505-fd86-441e-b488-a12533b311fb",
   "metadata": {},
   "outputs": [],
   "source": [
    "@app.callback(\n",
    "\tOutput('stock-price-chart', 'figure'),\n",
    "\t[Input('stock-selector', 'value')]\n",
    ")\n",
    "def update_chart(selected_stock):\n",
    "\tstock_data = yf.download(selected_stock, start='2022-01-01',\n",
    "\t\t\t\t\t\t\tend='2023-01-01')\n",
    "\tfig = px.line(stock_data, x=stock_data.index, y='Close',\n",
    "\t\t\t\ttitle=f'{selected_stock} Stock Price Analysis')\n",
    "\treturn fig\n"
   ]
  },
  {
   "cell_type": "code",
   "execution_count": null,
   "id": "e1eaf3d7-b72f-4f7f-aa8f-34e1e512e968",
   "metadata": {},
   "outputs": [],
   "source": [
    "if __name__ == '__main__':\n",
    "    app.run_server(portt=8050, mode='external')"
   ]
  },
  {
   "cell_type": "code",
   "execution_count": null,
   "id": "bec3e9ef-a07e-4afc-9bb3-99f642606787",
   "metadata": {},
   "outputs": [],
   "source": []
  }
 ],
 "metadata": {
  "kernelspec": {
   "display_name": "Python 3 (ipykernel)",
   "language": "python",
   "name": "python3"
  },
  "language_info": {
   "codemirror_mode": {
    "name": "ipython",
    "version": 3
   },
   "file_extension": ".py",
   "mimetype": "text/x-python",
   "name": "python",
   "nbconvert_exporter": "python",
   "pygments_lexer": "ipython3",
   "version": "3.11.2"
  }
 },
 "nbformat": 4,
 "nbformat_minor": 5
}
